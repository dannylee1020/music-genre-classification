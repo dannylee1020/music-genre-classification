{
  "nbformat": 4,
  "nbformat_minor": 0,
  "metadata": {
    "colab": {
      "name": "Music Genre Classification with Audio Files",
      "provenance": [],
      "collapsed_sections": [],
      "toc_visible": true,
      "mount_file_id": "1uJ17DcjCrDZlqStpYh5jQ-gbNhcG8FmL",
      "authorship_tag": "ABX9TyNPDMJHSWmn5BEKJbDzjM75"
    },
    "kernelspec": {
      "name": "python3",
      "display_name": "Python 3"
    },
    "accelerator": "GPU"
  },
  "cells": [
    {
      "cell_type": "markdown",
      "metadata": {
        "id": "flk6pLktiAOL",
        "colab_type": "text"
      },
      "source": [
        "# Data Prep"
      ]
    },
    {
      "cell_type": "markdown",
      "metadata": {
        "id": "QCMCkpSzh__b",
        "colab_type": "text"
      },
      "source": [
        "## Import packages"
      ]
    },
    {
      "cell_type": "code",
      "metadata": {
        "id": "JLm-pGTFiDxI",
        "colab_type": "code",
        "colab": {}
      },
      "source": [
        "import numpy as np\n",
        "import pandas as pd\n",
        "import librosa\n",
        "import librosa.display\n",
        "import pathlib\n",
        "import os\n",
        "import joblib\n",
        "from glob import glob\n",
        "import cv2\n",
        "import matplotlib.pyplot as plt\n",
        "import keras\n",
        "from keras.preprocessing.image import ImageDataGenerator\n",
        "from sklearn.model_selection import train_test_split\n",
        "from sklearn.preprocessing import LabelEncoder\n",
        "from keras.utils import to_categorical\n",
        "%matplotlib inline\n",
        "\n",
        "plt.style.use('seaborn-dark')"
      ],
      "execution_count": 4,
      "outputs": []
    },
    {
      "cell_type": "markdown",
      "metadata": {
        "id": "mAkL2RZIiEfW",
        "colab_type": "text"
      },
      "source": [
        "## Define global variables"
      ]
    },
    {
      "cell_type": "code",
      "metadata": {
        "id": "9VnP4c8IfkHi",
        "colab_type": "code",
        "colab": {
          "base_uri": "https://localhost:8080/",
          "height": 34
        },
        "outputId": "8f135dbd-e63b-4239-dc3c-b33660689a5a"
      },
      "source": [
        "import sklearn\n",
        "print(sklearn.__version__)"
      ],
      "execution_count": 7,
      "outputs": [
        {
          "output_type": "stream",
          "text": [
            "0.22.2.post1\n"
          ],
          "name": "stdout"
        }
      ]
    },
    {
      "cell_type": "code",
      "metadata": {
        "id": "5B03LHp_hk_L",
        "colab_type": "code",
        "colab": {}
      },
      "source": [
        "BASE_DIR = '/content/drive/My Drive/Machine Learning/Data/Music Genre/'\n",
        "GENRE_DIR = '/content/drive/My Drive/Machine Learning/Data/Music Genre/genres'\n",
        "IMG_DIR = 'wave_to_image'\n",
        "TRAIN_DATA_1D = 'train_1d.npy'\n",
        "TEST_DATA_1D = 'test_1d.npy'\n",
        "TRAIN_DATA_2D = 'train_2d.npy'\n",
        "TEST_DATA_2D = 'test_2d.npy'\n",
        "TRAIN_TARGET = 'y_train.npy'\n",
        "TEST_TARGET = 'y_test.npy'\n",
        "TRAIN_FILE = 'train'\n",
        "VAL_FILE = 'val'\n",
        "TRAIN_DATAGEN = 'train_datagen.pkl'\n",
        "TEST_DATAGEN = 'test_datagen.pkl'\n",
        "BATCH_SIZE = 30"
      ],
      "execution_count": 2,
      "outputs": []
    },
    {
      "cell_type": "markdown",
      "metadata": {
        "id": "ZdzJbOyniIrz",
        "colab_type": "text"
      },
      "source": [
        "## Load and clean data"
      ]
    },
    {
      "cell_type": "markdown",
      "metadata": {
        "id": "__vIhDqVv7z2",
        "colab_type": "text"
      },
      "source": [
        "## Data for 1D CNN"
      ]
    },
    {
      "cell_type": "markdown",
      "metadata": {
        "id": "-mJX66eqxeR_",
        "colab_type": "text"
      },
      "source": [
        "### Preprocess Data"
      ]
    },
    {
      "cell_type": "code",
      "metadata": {
        "id": "yOrKxWm7v9df",
        "colab_type": "code",
        "colab": {}
      },
      "source": [
        "def create_1d_dataframe(directory):\n",
        "  audio_df = []\n",
        "  for class_folder_name in os.listdir(directory):\n",
        "    class_folder_path = os.path.join(directory, class_folder_name)\n",
        "    for audio_path in glob(os.path.join(class_folder_path,'*wav')):\n",
        "      tmp = pd.DataFrame([audio_path, class_folder_name]).T\n",
        "      audio_df.append(tmp)\n",
        "\n",
        "  audio_df = pd.concat(audio_df, axis = 0, ignore_index = True)\n",
        "  audio_df.columns = ['audio_path','target_class']\n",
        "\n",
        "  return audio_df\n",
        "\n",
        "\n",
        "audio_df = create_1d_dataframe(GENRE_DIR)"
      ],
      "execution_count": 3,
      "outputs": []
    },
    {
      "cell_type": "code",
      "metadata": {
        "id": "DGV_07UwxatG",
        "colab_type": "code",
        "colab": {
          "base_uri": "https://localhost:8080/",
          "height": 34
        },
        "outputId": "2705afe0-3c35-466d-a84f-bd4845fce0b9"
      },
      "source": [
        "# train test split\n",
        "X_train, X_test, y_train, y_test = train_test_split(audio_df['audio_path'], audio_df['target_class'], test_size = 0.2, random_state = 42)\n",
        "\n",
        "X_train.reset_index(drop = True, inplace = True)\n",
        "X_test.reset_index(drop = True, inplace = True)\n",
        "y_train.reset_index(drop = True, inplace = True)\n",
        "y_test.reset_index(drop = True, inplace = True)\n",
        "\n",
        "print(X_train.shape, X_test.shape)"
      ],
      "execution_count": 4,
      "outputs": [
        {
          "output_type": "stream",
          "text": [
            "(800,) (200,)\n"
          ],
          "name": "stdout"
        }
      ]
    },
    {
      "cell_type": "code",
      "metadata": {
        "id": "Zi9bB4rDx6gI",
        "colab_type": "code",
        "colab": {}
      },
      "source": [
        "# encode target\n",
        "\n",
        "le = LabelEncoder()\n",
        "y_train_enc = le.fit_transform(y_train)\n",
        "y_test_enc = le.fit_transform(y_test)\n",
        "\n",
        "t_train = to_categorical(y_train_enc)\n",
        "t_test = to_categorical(y_test_enc)"
      ],
      "execution_count": 5,
      "outputs": []
    },
    {
      "cell_type": "markdown",
      "metadata": {
        "id": "s1wnH1Ps7zDb",
        "colab_type": "text"
      },
      "source": [
        "### Create dataset"
      ]
    },
    {
      "cell_type": "code",
      "metadata": {
        "id": "Dd4NkuLqx6we",
        "colab_type": "code",
        "colab": {}
      },
      "source": [
        "def convert_wav(df,n):\n",
        "  y, sr = librosa.load(df[n], mono = True, duration = 15)\n",
        "  mfcc = librosa.feature.mfcc(y = y, sr = sr)\n",
        "  return mfcc\n",
        "\n",
        "def create_dataset_1d(df):\n",
        "  array_list = []\n",
        "  for n in range(0, len(df)):\n",
        "    y = convert_wav(df, n)\n",
        "    array_list.append(y)\n",
        "\n",
        "  return array_list\n",
        "  "
      ],
      "execution_count": 21,
      "outputs": []
    },
    {
      "cell_type": "code",
      "metadata": {
        "id": "h6y4DdZA5sFW",
        "colab_type": "code",
        "colab": {}
      },
      "source": [
        "X_train = create_dataset_1d(X_train)\n",
        "X_train = np.asarray(X_train)"
      ],
      "execution_count": 23,
      "outputs": []
    },
    {
      "cell_type": "code",
      "metadata": {
        "id": "4ZIHFydr-grf",
        "colab_type": "code",
        "colab": {}
      },
      "source": [
        "X_test = create_dataset_1d(X_test)\n",
        "X_test = np.asarray(X_test)"
      ],
      "execution_count": 24,
      "outputs": []
    },
    {
      "cell_type": "code",
      "metadata": {
        "id": "4DrBrCdc-jme",
        "colab_type": "code",
        "colab": {}
      },
      "source": [
        "np.save(open(BASE_DIR + TRAIN_DATA_1D, 'wb'), X_train)\n",
        "np.save(open(BASE_DIR + TEST_DATA_1D, 'wb'), X_test)\n",
        "np.save(open(BASE_DIR + TRAIN_TARGET, 'wb'), t_train)\n",
        "np.save(open(BASE_DIR + TEST_TARGET, 'wb'), t_test)"
      ],
      "execution_count": 25,
      "outputs": []
    },
    {
      "cell_type": "markdown",
      "metadata": {
        "id": "WK1EMFYQv2gF",
        "colab_type": "text"
      },
      "source": [
        "## Data for 2D CNN"
      ]
    },
    {
      "cell_type": "code",
      "metadata": {
        "id": "rDXT4iAEarEf",
        "colab_type": "code",
        "colab": {}
      },
      "source": [
        "# convert audio file to mel spectrogram\n",
        "genres = 'blues classical country disco hiphop jazz metal pop reggae rock'.split()\n",
        "n_mels = 128\n",
        "\n",
        "for g in genres:\n",
        "  pathlib.Path(f\"{BASE_DIR + IMG_DIR}/{g}\").mkdir(parents = True, exist_ok = True)\n",
        "  for filename in os.listdir(f\"{GENRE_DIR}/{g}\"):\n",
        "    songname = f\"{GENRE_DIR}/{g}/{filename}\"\n",
        "    y, sr = librosa.load(songname, mono = True, duration = 5)\n",
        "    ex_wav, _ = librosa.effects.trim(y)\n",
        "    S = librosa.feature.melspectrogram(ex_wav, sr = sr)\n",
        "    S_DB = librosa.power_to_db(S, ref = np.max)\n",
        "    librosa.display.specshow(S_DB, sr = sr)\n",
        "    \n",
        "    plt.axis('off')\n",
        "    plt.savefig(f\"{BASE_DIR + IMG_DIR}/{g}/{filename[:-3].replace('.','')}.png\")\n",
        "    plt.clf()"
      ],
      "execution_count": null,
      "outputs": []
    },
    {
      "cell_type": "code",
      "metadata": {
        "id": "pB1mBIa0Deus",
        "colab_type": "code",
        "colab": {}
      },
      "source": [
        "# create dataframe\n",
        "def create_dataframe(directory):\n",
        "  images_df = []\n",
        "  for class_folder_name in os.listdir(directory):\n",
        "    class_folder_path = os.path.join(directory, class_folder_name)\n",
        "    for image_path in glob(os.path.join(class_folder_path, '*png')):\n",
        "      tmp = pd.DataFrame([image_path, class_folder_name]).T\n",
        "      images_df.append(tmp)\n",
        "  \n",
        "  images_df = pd.concat(images_df, axis = 0, ignore_index = True)\n",
        "  images_df.columns = ['image_path', 'target_class']\n",
        "  \n",
        "  return images_df\n",
        "\n",
        "images_df = create_dataframe(BASE_DIR + IMG_DIR)"
      ],
      "execution_count": 275,
      "outputs": []
    },
    {
      "cell_type": "markdown",
      "metadata": {
        "id": "3Viq1vVwKqdE",
        "colab_type": "text"
      },
      "source": [
        "### Preprocess Data"
      ]
    },
    {
      "cell_type": "code",
      "metadata": {
        "id": "y-o1nplbKr37",
        "colab_type": "code",
        "colab": {
          "base_uri": "https://localhost:8080/",
          "height": 34
        },
        "outputId": "d0fd5503-dd31-4f6b-fbc8-f42850ea880d"
      },
      "source": [
        "# Train test split\n",
        "X_train, X_test, y_train, y_test = train_test_split(images_df['image_path'], images_df['target_class'], random_state = 42, test_size = 0.2)\n",
        "\n",
        "X_train.reset_index(drop = True, inplace = True)\n",
        "X_test.reset_index(drop = True, inplace = True)\n",
        "y_train.reset_index(drop = True, inplace = True)\n",
        "y_test.reset_index(drop = True, inplace = True)\n",
        "\n",
        "print(X_train.shape, X_test.shape)"
      ],
      "execution_count": 276,
      "outputs": [
        {
          "output_type": "stream",
          "text": [
            "(800,) (200,)\n"
          ],
          "name": "stdout"
        }
      ]
    },
    {
      "cell_type": "markdown",
      "metadata": {
        "id": "UKM7r1LrEc1X",
        "colab_type": "text"
      },
      "source": [
        "### Resize and create dataset"
      ]
    },
    {
      "cell_type": "code",
      "metadata": {
        "id": "2hpQKCBTEhEE",
        "colab_type": "code",
        "colab": {}
      },
      "source": [
        "IMG_SIZE = 128\n",
        "\n",
        "def resize_image(df, n):\n",
        "  im = cv2.imread(df[n])\n",
        "  im = cv2.resize(im, (IMG_SIZE, IMG_SIZE))\n",
        "  return im\n",
        "\n",
        "def create_dataset(df, image_size):\n",
        "  tmp = np.zeros((len(df), image_size, image_size, 3), dtype = 'float32')\n",
        "\n",
        "  for n in range(0, len(df)):\n",
        "    im = resize_image(df, n)\n",
        "    tmp[n] = im\n",
        "\n",
        "  print(f\"image shape: {tmp.shape}\")\n",
        "  return tmp"
      ],
      "execution_count": 277,
      "outputs": []
    },
    {
      "cell_type": "code",
      "metadata": {
        "id": "6UTS64jaRFa3",
        "colab_type": "code",
        "colab": {
          "base_uri": "https://localhost:8080/",
          "height": 34
        },
        "outputId": "7d8bcbdd-e161-4d49-ede0-f9b7616d5f0b"
      },
      "source": [
        "X_train = create_dataset(X_train, IMG_SIZE)"
      ],
      "execution_count": 278,
      "outputs": [
        {
          "output_type": "stream",
          "text": [
            "image shape: (800, 128, 128, 3)\n"
          ],
          "name": "stdout"
        }
      ]
    },
    {
      "cell_type": "code",
      "metadata": {
        "id": "xe5aSCawWZew",
        "colab_type": "code",
        "colab": {
          "base_uri": "https://localhost:8080/",
          "height": 34
        },
        "outputId": "9593d851-85d6-4a07-91a4-e5b4116e638a"
      },
      "source": [
        "X_test = create_dataset(X_test, IMG_SIZE)"
      ],
      "execution_count": 279,
      "outputs": [
        {
          "output_type": "stream",
          "text": [
            "image shape: (200, 128, 128, 3)\n"
          ],
          "name": "stdout"
        }
      ]
    },
    {
      "cell_type": "code",
      "metadata": {
        "id": "H6HTGcapW4WL",
        "colab_type": "code",
        "colab": {}
      },
      "source": [
        "# save processed data\n",
        "np.save(open(BASE_DIR + TRAIN_DATA_2D, 'wb'), X_train)\n",
        "np.save(open(BASE_DIR + TEST_DATA_2D, 'wb'), X_test)"
      ],
      "execution_count": 280,
      "outputs": []
    },
    {
      "cell_type": "markdown",
      "metadata": {
        "id": "xUobOTh2_PDm",
        "colab_type": "text"
      },
      "source": [
        "# Build Model"
      ]
    },
    {
      "cell_type": "markdown",
      "metadata": {
        "id": "wUlcdHdO_RQ5",
        "colab_type": "text"
      },
      "source": [
        "## Import packages"
      ]
    },
    {
      "cell_type": "code",
      "metadata": {
        "id": "Cb2Kxygs8ZND",
        "colab_type": "code",
        "colab": {}
      },
      "source": [
        "from keras.models import Sequential\n",
        "from keras.layers import Dense, LSTM, Dropout, Flatten, BatchNormalization, Activation\n",
        "from keras.layers import Conv2D, MaxPooling2D, AveragePooling2D, GlobalMaxPooling2D, GlobalAveragePooling2D\n",
        "from keras.layers import Conv1D, MaxPooling1D, AveragePooling1D, GlobalMaxPooling1D, GlobalAveragePooling1D\n",
        "from keras.optimizers import Adam, SGD\n",
        "from keras.callbacks import EarlyStopping, ModelCheckpoint\n",
        "import keras.backend as K\n",
        "from sklearn.metrics import classification_report"
      ],
      "execution_count": 86,
      "outputs": []
    },
    {
      "cell_type": "markdown",
      "metadata": {
        "id": "EdYYd2trfeGw",
        "colab_type": "text"
      },
      "source": [
        "## Load data"
      ]
    },
    {
      "cell_type": "code",
      "metadata": {
        "id": "zwIcjOmKfcsQ",
        "colab_type": "code",
        "colab": {}
      },
      "source": [
        "X_train_2d = np.load(open(BASE_DIR + TRAIN_DATA_2D, 'rb'))\n",
        "X_test_2d = np.load(open(BASE_DIR + TEST_DATA_2D, 'rb'))\n",
        "\n",
        "X_train_1d = np.load(open(BASE_DIR + TRAIN_DATA_1D, 'rb'))\n",
        "X_test_1d = np.load(open(BASE_DIR + TEST_DATA_1D, 'rb'))\n",
        "\n",
        "y_train = np.load(open(BASE_DIR + TRAIN_TARGET, 'rb'))\n",
        "y_test = np.load(open(BASE_DIR + TEST_TARGET, 'rb'))"
      ],
      "execution_count": 4,
      "outputs": []
    },
    {
      "cell_type": "markdown",
      "metadata": {
        "id": "BxGRLwDlAjaX",
        "colab_type": "text"
      },
      "source": [
        "## Modeling"
      ]
    },
    {
      "cell_type": "markdown",
      "metadata": {
        "id": "sVykOUDQ6ia9",
        "colab_type": "text"
      },
      "source": [
        "### 2D CNN"
      ]
    },
    {
      "cell_type": "markdown",
      "metadata": {
        "id": "MZrCuWoGB2Gj",
        "colab_type": "text"
      },
      "source": [
        "#### Initialize Variables"
      ]
    },
    {
      "cell_type": "code",
      "metadata": {
        "id": "WR6Q3wGqB3ro",
        "colab_type": "code",
        "colab": {}
      },
      "source": [
        "MODEL = '2d_cnn_model.h5'\n",
        "ACC_2D = '2d_accuracy.png'\n",
        "LOSS_2D = '2d_loss.png'\n",
        "ACC_1D = '1d_accuracy.png'\n",
        "LOSS_1D = '1d_loss.png'\n",
        "EPOCHS = 100\n",
        "LEARNING_RATE = 0.00025\n",
        "BATCH_SIZE = 16\n",
        "INPUT_SHAPE = (128,128,3)\n",
        "FIRST_FILTER = 32\n",
        "SECOND_FILTER = 32\n",
        "THIRD_FILTER = 32\n",
        "KERNEL = (3,3)\n",
        "POOL_SIZE = (2,2)\n",
        "CONV_DROPOUT = 0.25\n",
        "FC_DROPOUT = 0.5"
      ],
      "execution_count": 45,
      "outputs": []
    },
    {
      "cell_type": "code",
      "metadata": {
        "id": "AmYI86Bq6kCi",
        "colab_type": "code",
        "colab": {}
      },
      "source": [
        "K.clear_session()\n",
        "\n",
        "convnet = Sequential()\n",
        "\n",
        "convnet.add(Conv2D(FIRST_FILTER, KERNEL, input_shape = INPUT_SHAPE))\n",
        "convnet.add(BatchNormalization())\n",
        "convnet.add(Activation('relu'))\n",
        "convnet.add(Dropout(CONV_DROPOUT))\n",
        "convnet.add(AveragePooling2D(pool_size = POOL_SIZE))\n",
        "\n",
        "\n",
        "convnet.add(Conv2D(SECOND_FILTER, KERNEL))\n",
        "convnet.add(BatchNormalization())\n",
        "convnet.add(Activation('relu'))\n",
        "convnet.add(Dropout(CONV_DROPOUT))\n",
        "convnet.add(AveragePooling2D(pool_size = POOL_SIZE))\n",
        "\n",
        "convnet.add(Conv2D(THIRD_FILTER, KERNEL))\n",
        "convnet.add(BatchNormalization())\n",
        "convnet.add(Activation('relu'))\n",
        "convnet.add(Dropout(CONV_DROPOUT))\n",
        "convnet.add(AveragePooling2D(pool_size = POOL_SIZE))\n",
        "\n",
        "convnet.add(Flatten())\n",
        "convnet.add(BatchNormalization())\n",
        "convnet.add(Dense(32, activation = 'relu'))\n",
        "convnet.add(Dropout(FC_DROPOUT))\n",
        "convnet.add(Dense(16, activation = 'relu'))\n",
        "convnet.add(Dropout(FC_DROPOUT))\n",
        "convnet.add(Dense(10, activation = 'softmax'))\n",
        "\n",
        "opt = Adam(lr = LEARNING_RATE)\n",
        "convnet.compile(loss = 'categorical_crossentropy', optimizer = opt, metrics = ['accuracy'])"
      ],
      "execution_count": 18,
      "outputs": []
    },
    {
      "cell_type": "code",
      "metadata": {
        "id": "cAX8czilU7WL",
        "colab_type": "code",
        "colab": {
          "base_uri": "https://localhost:8080/",
          "height": 1000
        },
        "outputId": "dc75f0be-94b1-4fc9-d3c0-01d7200f257a"
      },
      "source": [
        "mc = ModelCheckpoint(BASE_DIR + MODEL, monitor = 'val_loss', verbose = 0, save_best_only = True)\n",
        "\n",
        "history = convnet.fit(X_train_2d, \n",
        "                      y_train,\n",
        "                      verbose = 2,\n",
        "                      epochs = EPOCHS,                    \n",
        "                      callbacks = [mc],\n",
        "                      validation_data = (X_test_2d, y_test))"
      ],
      "execution_count": 19,
      "outputs": [
        {
          "output_type": "stream",
          "text": [
            "Epoch 1/100\n",
            "WARNING:tensorflow:Callbacks method `on_train_batch_end` is slow compared to the batch time (batch time: 0.0078s vs `on_train_batch_end` time: 0.0280s). Check your callbacks.\n",
            "25/25 - 2s - loss: 3.1015 - accuracy: 0.1287 - val_loss: 2.7127 - val_accuracy: 0.1050\n",
            "Epoch 2/100\n",
            "25/25 - 1s - loss: 2.9142 - accuracy: 0.1250 - val_loss: 2.6767 - val_accuracy: 0.0750\n",
            "Epoch 3/100\n",
            "25/25 - 1s - loss: 2.7329 - accuracy: 0.1575 - val_loss: 2.6011 - val_accuracy: 0.0750\n",
            "Epoch 4/100\n",
            "25/25 - 1s - loss: 2.5831 - accuracy: 0.1488 - val_loss: 2.4110 - val_accuracy: 0.0750\n",
            "Epoch 5/100\n",
            "25/25 - 1s - loss: 2.4995 - accuracy: 0.1762 - val_loss: 2.3163 - val_accuracy: 0.0850\n",
            "Epoch 6/100\n",
            "25/25 - 1s - loss: 2.4898 - accuracy: 0.1800 - val_loss: 2.2273 - val_accuracy: 0.1450\n",
            "Epoch 7/100\n",
            "25/25 - 1s - loss: 2.5047 - accuracy: 0.1562 - val_loss: 2.1425 - val_accuracy: 0.2000\n",
            "Epoch 8/100\n",
            "25/25 - 1s - loss: 2.3368 - accuracy: 0.2025 - val_loss: 2.1433 - val_accuracy: 0.2700\n",
            "Epoch 9/100\n",
            "25/25 - 1s - loss: 2.3267 - accuracy: 0.1988 - val_loss: 2.0851 - val_accuracy: 0.2750\n",
            "Epoch 10/100\n",
            "25/25 - 1s - loss: 2.3014 - accuracy: 0.1887 - val_loss: 2.0996 - val_accuracy: 0.2900\n",
            "Epoch 11/100\n",
            "25/25 - 1s - loss: 2.2669 - accuracy: 0.2188 - val_loss: 2.1006 - val_accuracy: 0.2850\n",
            "Epoch 12/100\n",
            "25/25 - 1s - loss: 2.3057 - accuracy: 0.2025 - val_loss: 2.1020 - val_accuracy: 0.2500\n",
            "Epoch 13/100\n",
            "25/25 - 1s - loss: 2.2349 - accuracy: 0.2387 - val_loss: 2.0569 - val_accuracy: 0.3150\n",
            "Epoch 14/100\n",
            "25/25 - 1s - loss: 2.2179 - accuracy: 0.2338 - val_loss: 2.0780 - val_accuracy: 0.3100\n",
            "Epoch 15/100\n",
            "25/25 - 1s - loss: 2.2195 - accuracy: 0.2212 - val_loss: 2.0059 - val_accuracy: 0.3150\n",
            "Epoch 16/100\n",
            "25/25 - 1s - loss: 2.1806 - accuracy: 0.2188 - val_loss: 1.9995 - val_accuracy: 0.3200\n",
            "Epoch 17/100\n",
            "25/25 - 1s - loss: 2.0764 - accuracy: 0.2537 - val_loss: 1.9688 - val_accuracy: 0.3300\n",
            "Epoch 18/100\n",
            "25/25 - 1s - loss: 2.1217 - accuracy: 0.2375 - val_loss: 1.9819 - val_accuracy: 0.3100\n",
            "Epoch 19/100\n",
            "25/25 - 1s - loss: 2.1334 - accuracy: 0.2438 - val_loss: 1.9907 - val_accuracy: 0.3250\n",
            "Epoch 20/100\n",
            "25/25 - 1s - loss: 2.0548 - accuracy: 0.2837 - val_loss: 1.9489 - val_accuracy: 0.2950\n",
            "Epoch 21/100\n",
            "25/25 - 1s - loss: 2.0792 - accuracy: 0.2700 - val_loss: 1.9753 - val_accuracy: 0.3350\n",
            "Epoch 22/100\n",
            "25/25 - 1s - loss: 2.1145 - accuracy: 0.2575 - val_loss: 1.9684 - val_accuracy: 0.3350\n",
            "Epoch 23/100\n",
            "25/25 - 1s - loss: 2.1429 - accuracy: 0.2650 - val_loss: 1.9936 - val_accuracy: 0.3050\n",
            "Epoch 24/100\n",
            "25/25 - 1s - loss: 2.1066 - accuracy: 0.2587 - val_loss: 1.9524 - val_accuracy: 0.3600\n",
            "Epoch 25/100\n",
            "25/25 - 1s - loss: 2.0468 - accuracy: 0.2763 - val_loss: 1.9085 - val_accuracy: 0.3450\n",
            "Epoch 26/100\n",
            "25/25 - 1s - loss: 2.0959 - accuracy: 0.2637 - val_loss: 1.8881 - val_accuracy: 0.3550\n",
            "Epoch 27/100\n",
            "25/25 - 1s - loss: 2.0490 - accuracy: 0.2725 - val_loss: 1.9245 - val_accuracy: 0.3450\n",
            "Epoch 28/100\n",
            "25/25 - 1s - loss: 2.0103 - accuracy: 0.2950 - val_loss: 1.8573 - val_accuracy: 0.3850\n",
            "Epoch 29/100\n",
            "25/25 - 1s - loss: 2.0305 - accuracy: 0.2688 - val_loss: 1.8837 - val_accuracy: 0.3450\n",
            "Epoch 30/100\n",
            "25/25 - 1s - loss: 1.9983 - accuracy: 0.2700 - val_loss: 1.8670 - val_accuracy: 0.3800\n",
            "Epoch 31/100\n",
            "25/25 - 1s - loss: 1.9353 - accuracy: 0.3313 - val_loss: 1.8468 - val_accuracy: 0.3950\n",
            "Epoch 32/100\n",
            "25/25 - 1s - loss: 1.9570 - accuracy: 0.2988 - val_loss: 1.8672 - val_accuracy: 0.3900\n",
            "Epoch 33/100\n",
            "25/25 - 1s - loss: 1.9481 - accuracy: 0.3137 - val_loss: 1.9055 - val_accuracy: 0.3450\n",
            "Epoch 34/100\n",
            "25/25 - 1s - loss: 1.9128 - accuracy: 0.3262 - val_loss: 1.8421 - val_accuracy: 0.3950\n",
            "Epoch 35/100\n",
            "25/25 - 1s - loss: 1.9063 - accuracy: 0.3100 - val_loss: 1.8331 - val_accuracy: 0.4150\n",
            "Epoch 36/100\n",
            "25/25 - 1s - loss: 1.8998 - accuracy: 0.3137 - val_loss: 1.8483 - val_accuracy: 0.4050\n",
            "Epoch 37/100\n",
            "25/25 - 1s - loss: 1.8859 - accuracy: 0.3275 - val_loss: 1.8219 - val_accuracy: 0.4550\n",
            "Epoch 38/100\n",
            "25/25 - 1s - loss: 1.9139 - accuracy: 0.3200 - val_loss: 1.7683 - val_accuracy: 0.4400\n",
            "Epoch 39/100\n",
            "25/25 - 1s - loss: 1.8961 - accuracy: 0.3338 - val_loss: 1.8761 - val_accuracy: 0.3550\n",
            "Epoch 40/100\n",
            "25/25 - 1s - loss: 1.9418 - accuracy: 0.3350 - val_loss: 1.7540 - val_accuracy: 0.3950\n",
            "Epoch 41/100\n",
            "25/25 - 1s - loss: 1.8310 - accuracy: 0.3525 - val_loss: 1.7727 - val_accuracy: 0.4500\n",
            "Epoch 42/100\n",
            "25/25 - 1s - loss: 1.8464 - accuracy: 0.3313 - val_loss: 1.8475 - val_accuracy: 0.3900\n",
            "Epoch 43/100\n",
            "25/25 - 1s - loss: 1.8178 - accuracy: 0.3613 - val_loss: 1.7274 - val_accuracy: 0.4350\n",
            "Epoch 44/100\n",
            "25/25 - 1s - loss: 1.8394 - accuracy: 0.3350 - val_loss: 1.7962 - val_accuracy: 0.4500\n",
            "Epoch 45/100\n",
            "25/25 - 1s - loss: 1.8355 - accuracy: 0.3600 - val_loss: 1.8223 - val_accuracy: 0.4150\n",
            "Epoch 46/100\n",
            "25/25 - 1s - loss: 1.7671 - accuracy: 0.3512 - val_loss: 1.6874 - val_accuracy: 0.4150\n",
            "Epoch 47/100\n",
            "25/25 - 1s - loss: 1.7886 - accuracy: 0.3550 - val_loss: 1.6932 - val_accuracy: 0.4400\n",
            "Epoch 48/100\n",
            "25/25 - 1s - loss: 1.7804 - accuracy: 0.3537 - val_loss: 1.7461 - val_accuracy: 0.4400\n",
            "Epoch 49/100\n",
            "25/25 - 1s - loss: 1.8225 - accuracy: 0.3413 - val_loss: 1.6557 - val_accuracy: 0.4500\n",
            "Epoch 50/100\n",
            "25/25 - 1s - loss: 1.8069 - accuracy: 0.3613 - val_loss: 1.7027 - val_accuracy: 0.3950\n",
            "Epoch 51/100\n",
            "25/25 - 1s - loss: 1.7745 - accuracy: 0.3800 - val_loss: 1.9008 - val_accuracy: 0.3300\n",
            "Epoch 52/100\n",
            "25/25 - 1s - loss: 1.7642 - accuracy: 0.3925 - val_loss: 1.6894 - val_accuracy: 0.4550\n",
            "Epoch 53/100\n",
            "25/25 - 1s - loss: 1.7326 - accuracy: 0.3787 - val_loss: 1.7253 - val_accuracy: 0.3600\n",
            "Epoch 54/100\n",
            "25/25 - 1s - loss: 1.7582 - accuracy: 0.3762 - val_loss: 1.9302 - val_accuracy: 0.2850\n",
            "Epoch 55/100\n",
            "25/25 - 1s - loss: 1.7261 - accuracy: 0.3812 - val_loss: 1.7914 - val_accuracy: 0.3950\n",
            "Epoch 56/100\n",
            "25/25 - 1s - loss: 1.7411 - accuracy: 0.3700 - val_loss: 1.7676 - val_accuracy: 0.3550\n",
            "Epoch 57/100\n",
            "25/25 - 1s - loss: 1.7137 - accuracy: 0.3587 - val_loss: 1.7511 - val_accuracy: 0.4150\n",
            "Epoch 58/100\n",
            "25/25 - 1s - loss: 1.7114 - accuracy: 0.3600 - val_loss: 1.7122 - val_accuracy: 0.4600\n",
            "Epoch 59/100\n",
            "25/25 - 1s - loss: 1.6692 - accuracy: 0.4050 - val_loss: 1.5795 - val_accuracy: 0.5250\n",
            "Epoch 60/100\n",
            "25/25 - 1s - loss: 1.6467 - accuracy: 0.4250 - val_loss: 1.6324 - val_accuracy: 0.5000\n",
            "Epoch 61/100\n",
            "25/25 - 1s - loss: 1.6741 - accuracy: 0.4025 - val_loss: 1.5856 - val_accuracy: 0.4800\n",
            "Epoch 62/100\n",
            "25/25 - 1s - loss: 1.6201 - accuracy: 0.4112 - val_loss: 1.5636 - val_accuracy: 0.4950\n",
            "Epoch 63/100\n",
            "25/25 - 1s - loss: 1.6352 - accuracy: 0.4025 - val_loss: 1.5849 - val_accuracy: 0.4950\n",
            "Epoch 64/100\n",
            "25/25 - 1s - loss: 1.6655 - accuracy: 0.3950 - val_loss: 1.6165 - val_accuracy: 0.4850\n",
            "Epoch 65/100\n",
            "25/25 - 1s - loss: 1.6118 - accuracy: 0.4038 - val_loss: 1.7432 - val_accuracy: 0.4250\n",
            "Epoch 66/100\n",
            "25/25 - 1s - loss: 1.6519 - accuracy: 0.4162 - val_loss: 1.7562 - val_accuracy: 0.4650\n",
            "Epoch 67/100\n",
            "25/25 - 1s - loss: 1.6070 - accuracy: 0.4412 - val_loss: 1.6249 - val_accuracy: 0.5050\n",
            "Epoch 68/100\n",
            "25/25 - 1s - loss: 1.6354 - accuracy: 0.4200 - val_loss: 1.7442 - val_accuracy: 0.3700\n",
            "Epoch 69/100\n",
            "25/25 - 1s - loss: 1.6140 - accuracy: 0.4150 - val_loss: 1.5801 - val_accuracy: 0.4850\n",
            "Epoch 70/100\n",
            "25/25 - 1s - loss: 1.6200 - accuracy: 0.4187 - val_loss: 1.5676 - val_accuracy: 0.4900\n",
            "Epoch 71/100\n",
            "25/25 - 1s - loss: 1.5765 - accuracy: 0.4250 - val_loss: 1.5699 - val_accuracy: 0.4800\n",
            "Epoch 72/100\n",
            "25/25 - 2s - loss: 1.5664 - accuracy: 0.4225 - val_loss: 1.5620 - val_accuracy: 0.5100\n",
            "Epoch 73/100\n",
            "25/25 - 1s - loss: 1.4643 - accuracy: 0.4563 - val_loss: 1.5190 - val_accuracy: 0.5400\n",
            "Epoch 74/100\n",
            "25/25 - 1s - loss: 1.4782 - accuracy: 0.4625 - val_loss: 1.5294 - val_accuracy: 0.5150\n",
            "Epoch 75/100\n",
            "25/25 - 1s - loss: 1.5052 - accuracy: 0.4688 - val_loss: 1.5077 - val_accuracy: 0.5400\n",
            "Epoch 76/100\n",
            "25/25 - 1s - loss: 1.4751 - accuracy: 0.4812 - val_loss: 1.4868 - val_accuracy: 0.5250\n",
            "Epoch 77/100\n",
            "25/25 - 1s - loss: 1.5385 - accuracy: 0.4475 - val_loss: 1.4901 - val_accuracy: 0.5050\n",
            "Epoch 78/100\n",
            "25/25 - 1s - loss: 1.4705 - accuracy: 0.4563 - val_loss: 1.4677 - val_accuracy: 0.5250\n",
            "Epoch 79/100\n",
            "25/25 - 1s - loss: 1.4815 - accuracy: 0.4575 - val_loss: 1.4515 - val_accuracy: 0.5450\n",
            "Epoch 80/100\n",
            "25/25 - 1s - loss: 1.4603 - accuracy: 0.4737 - val_loss: 1.4402 - val_accuracy: 0.5500\n",
            "Epoch 81/100\n",
            "25/25 - 1s - loss: 1.4886 - accuracy: 0.4475 - val_loss: 1.5844 - val_accuracy: 0.4900\n",
            "Epoch 82/100\n",
            "25/25 - 1s - loss: 1.4666 - accuracy: 0.4888 - val_loss: 1.4847 - val_accuracy: 0.5450\n",
            "Epoch 83/100\n",
            "25/25 - 1s - loss: 1.4697 - accuracy: 0.4787 - val_loss: 1.5048 - val_accuracy: 0.4800\n",
            "Epoch 84/100\n",
            "25/25 - 1s - loss: 1.4703 - accuracy: 0.4650 - val_loss: 1.4677 - val_accuracy: 0.5350\n",
            "Epoch 85/100\n",
            "25/25 - 1s - loss: 1.4891 - accuracy: 0.4663 - val_loss: 1.4602 - val_accuracy: 0.5550\n",
            "Epoch 86/100\n",
            "25/25 - 1s - loss: 1.4150 - accuracy: 0.4925 - val_loss: 1.4220 - val_accuracy: 0.5400\n",
            "Epoch 87/100\n",
            "25/25 - 1s - loss: 1.3475 - accuracy: 0.5125 - val_loss: 1.5302 - val_accuracy: 0.4850\n",
            "Epoch 88/100\n",
            "25/25 - 1s - loss: 1.3615 - accuracy: 0.5088 - val_loss: 1.3671 - val_accuracy: 0.5900\n",
            "Epoch 89/100\n",
            "25/25 - 1s - loss: 1.4483 - accuracy: 0.4762 - val_loss: 1.4490 - val_accuracy: 0.5750\n",
            "Epoch 90/100\n",
            "25/25 - 1s - loss: 1.3695 - accuracy: 0.4837 - val_loss: 1.4317 - val_accuracy: 0.5550\n",
            "Epoch 91/100\n",
            "25/25 - 1s - loss: 1.3858 - accuracy: 0.4913 - val_loss: 1.4429 - val_accuracy: 0.5750\n",
            "Epoch 92/100\n",
            "25/25 - 1s - loss: 1.3607 - accuracy: 0.5000 - val_loss: 1.4443 - val_accuracy: 0.5650\n",
            "Epoch 93/100\n",
            "25/25 - 1s - loss: 1.3286 - accuracy: 0.5200 - val_loss: 1.4576 - val_accuracy: 0.5350\n",
            "Epoch 94/100\n",
            "25/25 - 1s - loss: 1.4093 - accuracy: 0.4812 - val_loss: 1.5515 - val_accuracy: 0.5000\n",
            "Epoch 95/100\n",
            "25/25 - 1s - loss: 1.3477 - accuracy: 0.5100 - val_loss: 1.4616 - val_accuracy: 0.5750\n",
            "Epoch 96/100\n",
            "25/25 - 1s - loss: 1.3871 - accuracy: 0.4950 - val_loss: 1.6148 - val_accuracy: 0.4600\n",
            "Epoch 97/100\n",
            "25/25 - 1s - loss: 1.3800 - accuracy: 0.5000 - val_loss: 1.4895 - val_accuracy: 0.5400\n",
            "Epoch 98/100\n",
            "25/25 - 1s - loss: 1.3319 - accuracy: 0.5175 - val_loss: 1.5571 - val_accuracy: 0.5050\n",
            "Epoch 99/100\n",
            "25/25 - 1s - loss: 1.3378 - accuracy: 0.5225 - val_loss: 1.4387 - val_accuracy: 0.5550\n",
            "Epoch 100/100\n",
            "25/25 - 1s - loss: 1.3373 - accuracy: 0.5250 - val_loss: 1.3782 - val_accuracy: 0.5750\n"
          ],
          "name": "stdout"
        }
      ]
    },
    {
      "cell_type": "code",
      "metadata": {
        "id": "1aq-QSSYn7UC",
        "colab_type": "code",
        "colab": {
          "base_uri": "https://localhost:8080/",
          "height": 52
        },
        "outputId": "88e759ab-10a6-43ee-a2b8-c99605074eb1"
      },
      "source": [
        "convnet.evaluate(X_test_2d, y_test, steps = 16, verbose = 1)"
      ],
      "execution_count": 20,
      "outputs": [
        {
          "output_type": "stream",
          "text": [
            "16/16 [==============================] - 0s 5ms/step - loss: 1.3782 - accuracy: 0.5750\n"
          ],
          "name": "stdout"
        },
        {
          "output_type": "execute_result",
          "data": {
            "text/plain": [
              "[1.3782304525375366, 0.574999988079071]"
            ]
          },
          "metadata": {
            "tags": []
          },
          "execution_count": 20
        }
      ]
    },
    {
      "cell_type": "code",
      "metadata": {
        "id": "_tkeMOLAuLPF",
        "colab_type": "code",
        "colab": {
          "base_uri": "https://localhost:8080/",
          "height": 400
        },
        "outputId": "9c8f2ae4-f247-4ddc-b4b3-b8f214baf6e7"
      },
      "source": [
        "plt.figure(figsize = (8,6))\n",
        "plt.plot(history.history['accuracy'])\n",
        "plt.plot(history.history['val_accuracy'])\n",
        "plt.xlabel('Epochs')\n",
        "plt.ylabel('Accuracy')\n",
        "plt.legend(['Train', 'Val'])\n",
        "plt.title('2D CNN Model Accuracy')\n",
        "plt.savefig(BASE_DIR + ACC_2D, format = 'png')\n"
      ],
      "execution_count": 48,
      "outputs": [
        {
          "output_type": "display_data",
          "data": {
            "image/png": "[encoded data removed]",
            "text/plain": [
              "<Figure size 576x432 with 1 Axes>"
            ]
          },
          "metadata": {
            "tags": []
          }
        }
      ]
    },
    {
      "cell_type": "code",
      "metadata": {
        "id": "6LsEwoEkubgh",
        "colab_type": "code",
        "colab": {
          "base_uri": "https://localhost:8080/",
          "height": 400
        },
        "outputId": "bca94719-bb1f-4498-f54f-8efff69b3c59"
      },
      "source": [
        "plt.figure(figsize = (8,6))\n",
        "plt.plot(history.history['loss'])\n",
        "plt.plot(history.history['val_loss'])\n",
        "plt.xlabel('Epochs')\n",
        "plt.ylabel('Loss')\n",
        "plt.legend(['Train', 'Val'])\n",
        "plt.title('2D CNN Model Loss')\n",
        "plt.savefig(BASE_DIR + LOSS_2D, format = 'png')"
      ],
      "execution_count": 50,
      "outputs": [
        {
          "output_type": "display_data",
          "data": {
            "image/png": "[encoded data removed]",
            "text/plain": [
              "<Figure size 576x432 with 1 Axes>"
            ]
          },
          "metadata": {
            "tags": []
          }
        }
      ]
    },
    {
      "cell_type": "code",
      "metadata": {
        "id": "GZTuQubNugNy",
        "colab_type": "code",
        "colab": {
          "base_uri": "https://localhost:8080/",
          "height": 318
        },
        "outputId": "e7fce5dd-7044-4fb1-b7da-85d94e97f51a"
      },
      "source": [
        "y_pred = convnet.predict(X_test_2d)\n",
        "y_pred = np.argmax(y_pred, axis = 1)\n",
        "clf = classification_report(y_test_enc, y_pred)\n",
        "print(clf)"
      ],
      "execution_count": 87,
      "outputs": [
        {
          "output_type": "stream",
          "text": [
            "              precision    recall  f1-score   support\n",
            "\n",
            "           0       0.48      1.00      0.65        13\n",
            "           1       0.47      0.33      0.39        27\n",
            "           2       0.69      0.69      0.69        13\n",
            "           3       0.71      0.88      0.79        25\n",
            "           4       0.64      0.70      0.67        23\n",
            "           5       0.56      0.45      0.50        20\n",
            "           6       0.48      0.76      0.59        21\n",
            "           7       0.75      0.14      0.24        21\n",
            "           8       0.50      0.47      0.48        15\n",
            "           9       0.61      0.50      0.55        22\n",
            "\n",
            "    accuracy                           0.57       200\n",
            "   macro avg       0.59      0.59      0.56       200\n",
            "weighted avg       0.59      0.57      0.55       200\n",
            "\n"
          ],
          "name": "stdout"
        }
      ]
    },
    {
      "cell_type": "markdown",
      "metadata": {
        "id": "g5Em1CUI65jP",
        "colab_type": "text"
      },
      "source": [
        "### 1D CNN + LSTM"
      ]
    },
    {
      "cell_type": "markdown",
      "metadata": {
        "id": "1e7UvdSiB59W",
        "colab_type": "text"
      },
      "source": [
        "#### Initialize variables"
      ]
    },
    {
      "cell_type": "code",
      "metadata": {
        "id": "POeFgVFoCCUd",
        "colab_type": "code",
        "colab": {}
      },
      "source": [
        " SEQUENCE_MODEL = 'cnn_lstm_sequence.h5'\n",
        " EPOCHS = 100\n",
        " LR = 0.00025\n",
        " BATCH_SIZE = 16\n",
        " FILTER = 32\n",
        " KERNEL_SIZE = 4\n",
        " INPUT_SHAPE = (X_train_1d.shape[2], X_train_1d.shape[1]) # input shape of 1d ccn = (# samples, # timesteps, # features)\n",
        " POOL_SIZE = 2\n",
        " CONV_DROPOUT = 0.25\n",
        " FC_DROPOUT = 0.5"
      ],
      "execution_count": 23,
      "outputs": []
    },
    {
      "cell_type": "code",
      "metadata": {
        "id": "uxUxuSdjzvdD",
        "colab_type": "code",
        "colab": {
          "base_uri": "https://localhost:8080/",
          "height": 52
        },
        "outputId": "3cacddd6-020c-45e8-ce00-64c2899a7c3c"
      },
      "source": [
        "X_train_1d_reshape = X_train_1d.reshape(X_train_1d.shape[0], X_train_1d.shape[2], X_train_1d.shape[1])\n",
        "X_test_1d_reshape = X_test_1d.reshape(X_test_1d.shape[0], X_test_1d.shape[2], X_test_1d.shape[1])\n",
        "\n",
        "print(f\"shape of mfcc : {X_train_1d.shape}\")\n",
        "print(f\"reshaped mfcc to fit keras: {X_train_1d_reshape.shape}\")"
      ],
      "execution_count": 24,
      "outputs": [
        {
          "output_type": "stream",
          "text": [
            "shape of mfcc : (800, 20, 646)\n",
            "reshaped mfcc to fit keras: (800, 646, 20)\n"
          ],
          "name": "stdout"
        }
      ]
    },
    {
      "cell_type": "code",
      "metadata": {
        "id": "IV4_trQOBFEs",
        "colab_type": "code",
        "colab": {}
      },
      "source": [
        "K.clear_session()\n",
        "\n",
        "model = Sequential()\n",
        "\n",
        "model.add(Conv1D(FILTER, KERNEL_SIZE, input_shape = INPUT_SHAPE, padding = 'same'))\n",
        "model.add(BatchNormalization())\n",
        "model.add(Activation('relu'))\n",
        "model.add(Dropout(CONV_DROPOUT))\n",
        "# model.add(MaxPooling1D(pool_size = POOL_SIZE))\n",
        "model.add(AveragePooling1D(pool_size = POOL_SIZE))\n",
        "\n",
        "model.add(Conv1D(FILTER, KERNEL_SIZE, padding = 'same'))\n",
        "model.add(BatchNormalization())\n",
        "model.add(Activation('relu'))\n",
        "model.add(Dropout(CONV_DROPOUT))\n",
        "# model.add(MaxPooling1D(pool_size = POOL_SIZE))\n",
        "model.add(AveragePooling1D(pool_size = POOL_SIZE))\n",
        "\n",
        "model.add(Conv1D(FILTER, KERNEL_SIZE, padding = 'same'))\n",
        "model.add(BatchNormalization())\n",
        "model.add(Activation('relu'))\n",
        "model.add(Dropout(CONV_DROPOUT))\n",
        "# model.add(MaxPooling1D(pool_size = POOL_SIZE))\n",
        "model.add(AveragePooling1D(pool_size = POOL_SIZE))\n",
        "\n",
        "model.add(LSTM(128, return_sequences = True))\n",
        "model.add(LSTM(128, return_sequences = False))\n",
        "model.add(Dropout(CONV_DROPOUT))\n",
        "\n",
        "\n",
        "model.add(Dense(64, activation = 'relu'))\n",
        "model.add(Dropout(FC_DROPOUT))\n",
        "# model.add(Dense(64, activation = 'relu'))\n",
        "# model.add(Dropout(FC_DROPOUT))\n",
        "model.add(Dense(10, activation = 'softmax'))\n",
        "\n",
        "opt = Adam(lr = LR)\n",
        "model.compile(loss = 'categorical_crossentropy', optimizer = opt, metrics = ['accuracy'])"
      ],
      "execution_count": 25,
      "outputs": []
    },
    {
      "cell_type": "code",
      "metadata": {
        "id": "_Gr-SB5gKjOl",
        "colab_type": "code",
        "colab": {
          "base_uri": "https://localhost:8080/",
          "height": 1000
        },
        "outputId": "b5b4cc87-6530-4eac-d1a3-42d66463651c"
      },
      "source": [
        "# es = EarlyStopping(monitor = 'val_loss', patience = 5, verbose = 0)\n",
        "mc = ModelCheckpoint(BASE_DIR + SEQUENCE_MODEL, monitor = 'val_loss', verbose = 0, save_best_only=True)\n",
        "callbacks = [mc]\n",
        "\n",
        "history = model.fit(X_train_1d_reshape,\n",
        "                    y_train,\n",
        "                    epochs = EPOCHS,                  \n",
        "                    verbose = 2,\n",
        "                    callbacks = callbacks,\n",
        "                    validation_data = (X_test_1d_reshape, y_test))"
      ],
      "execution_count": 26,
      "outputs": [
        {
          "output_type": "stream",
          "text": [
            "Epoch 1/100\n",
            "25/25 - 2s - loss: 2.3067 - accuracy: 0.0887 - val_loss: 2.3034 - val_accuracy: 0.0900\n",
            "Epoch 2/100\n",
            "25/25 - 1s - loss: 2.3047 - accuracy: 0.0938 - val_loss: 2.3025 - val_accuracy: 0.1100\n",
            "Epoch 3/100\n",
            "25/25 - 0s - loss: 2.2982 - accuracy: 0.1088 - val_loss: 2.3034 - val_accuracy: 0.0800\n",
            "Epoch 4/100\n",
            "25/25 - 1s - loss: 2.2907 - accuracy: 0.1388 - val_loss: 2.2990 - val_accuracy: 0.1350\n",
            "Epoch 5/100\n",
            "25/25 - 1s - loss: 2.2736 - accuracy: 0.1550 - val_loss: 2.2844 - val_accuracy: 0.1600\n",
            "Epoch 6/100\n",
            "25/25 - 1s - loss: 2.2259 - accuracy: 0.1775 - val_loss: 2.1963 - val_accuracy: 0.1650\n",
            "Epoch 7/100\n",
            "25/25 - 1s - loss: 2.1548 - accuracy: 0.2163 - val_loss: 2.0990 - val_accuracy: 0.2400\n",
            "Epoch 8/100\n",
            "25/25 - 1s - loss: 2.1109 - accuracy: 0.2200 - val_loss: 2.0693 - val_accuracy: 0.2400\n",
            "Epoch 9/100\n",
            "25/25 - 1s - loss: 2.0250 - accuracy: 0.2600 - val_loss: 2.0006 - val_accuracy: 0.2400\n",
            "Epoch 10/100\n",
            "25/25 - 1s - loss: 1.9333 - accuracy: 0.2738 - val_loss: 1.8559 - val_accuracy: 0.3150\n",
            "Epoch 11/100\n",
            "25/25 - 1s - loss: 1.8775 - accuracy: 0.2912 - val_loss: 1.7866 - val_accuracy: 0.3300\n",
            "Epoch 12/100\n",
            "25/25 - 1s - loss: 1.8379 - accuracy: 0.3050 - val_loss: 1.6866 - val_accuracy: 0.3500\n",
            "Epoch 13/100\n",
            "25/25 - 0s - loss: 1.7873 - accuracy: 0.3237 - val_loss: 1.7338 - val_accuracy: 0.3200\n",
            "Epoch 14/100\n",
            "25/25 - 0s - loss: 1.7848 - accuracy: 0.3250 - val_loss: 1.7223 - val_accuracy: 0.3050\n",
            "Epoch 15/100\n",
            "25/25 - 1s - loss: 1.7791 - accuracy: 0.3350 - val_loss: 1.6811 - val_accuracy: 0.3500\n",
            "Epoch 16/100\n",
            "25/25 - 1s - loss: 1.7097 - accuracy: 0.3413 - val_loss: 1.5795 - val_accuracy: 0.4650\n",
            "Epoch 17/100\n",
            "25/25 - 0s - loss: 1.6836 - accuracy: 0.3738 - val_loss: 1.5831 - val_accuracy: 0.3500\n",
            "Epoch 18/100\n",
            "25/25 - 1s - loss: 1.6992 - accuracy: 0.3537 - val_loss: 1.5603 - val_accuracy: 0.4300\n",
            "Epoch 19/100\n",
            "25/25 - 1s - loss: 1.6523 - accuracy: 0.3725 - val_loss: 1.4931 - val_accuracy: 0.4700\n",
            "Epoch 20/100\n",
            "25/25 - 0s - loss: 1.6055 - accuracy: 0.4162 - val_loss: 1.5156 - val_accuracy: 0.4800\n",
            "Epoch 21/100\n",
            "25/25 - 1s - loss: 1.6128 - accuracy: 0.3887 - val_loss: 1.4858 - val_accuracy: 0.4750\n",
            "Epoch 22/100\n",
            "25/25 - 1s - loss: 1.5894 - accuracy: 0.4162 - val_loss: 1.4413 - val_accuracy: 0.5100\n",
            "Epoch 23/100\n",
            "25/25 - 1s - loss: 1.5946 - accuracy: 0.4000 - val_loss: 1.4366 - val_accuracy: 0.4800\n",
            "Epoch 24/100\n",
            "25/25 - 1s - loss: 1.6107 - accuracy: 0.4288 - val_loss: 1.4257 - val_accuracy: 0.4700\n",
            "Epoch 25/100\n",
            "25/25 - 1s - loss: 1.5194 - accuracy: 0.4325 - val_loss: 1.3812 - val_accuracy: 0.5200\n",
            "Epoch 26/100\n",
            "25/25 - 1s - loss: 1.4997 - accuracy: 0.4575 - val_loss: 1.3304 - val_accuracy: 0.5800\n",
            "Epoch 27/100\n",
            "25/25 - 1s - loss: 1.5105 - accuracy: 0.4300 - val_loss: 1.2987 - val_accuracy: 0.5350\n",
            "Epoch 28/100\n",
            "25/25 - 0s - loss: 1.4997 - accuracy: 0.4175 - val_loss: 1.3257 - val_accuracy: 0.5600\n",
            "Epoch 29/100\n",
            "25/25 - 0s - loss: 1.4848 - accuracy: 0.4663 - val_loss: 1.3324 - val_accuracy: 0.5150\n",
            "Epoch 30/100\n",
            "25/25 - 0s - loss: 1.4528 - accuracy: 0.4888 - val_loss: 1.3634 - val_accuracy: 0.5450\n",
            "Epoch 31/100\n",
            "25/25 - 0s - loss: 1.4010 - accuracy: 0.4950 - val_loss: 1.3196 - val_accuracy: 0.5250\n",
            "Epoch 32/100\n",
            "25/25 - 1s - loss: 1.4255 - accuracy: 0.4650 - val_loss: 1.2840 - val_accuracy: 0.5800\n",
            "Epoch 33/100\n",
            "25/25 - 0s - loss: 1.4567 - accuracy: 0.4712 - val_loss: 1.3460 - val_accuracy: 0.5400\n",
            "Epoch 34/100\n",
            "25/25 - 0s - loss: 1.4663 - accuracy: 0.4650 - val_loss: 1.3719 - val_accuracy: 0.5050\n",
            "Epoch 35/100\n",
            "25/25 - 0s - loss: 1.5270 - accuracy: 0.4525 - val_loss: 1.3128 - val_accuracy: 0.5650\n",
            "Epoch 36/100\n",
            "25/25 - 1s - loss: 1.3812 - accuracy: 0.5225 - val_loss: 1.2695 - val_accuracy: 0.5650\n",
            "Epoch 37/100\n",
            "25/25 - 0s - loss: 1.4563 - accuracy: 0.4825 - val_loss: 1.3795 - val_accuracy: 0.4950\n",
            "Epoch 38/100\n",
            "25/25 - 0s - loss: 1.4328 - accuracy: 0.4787 - val_loss: 1.3451 - val_accuracy: 0.5000\n",
            "Epoch 39/100\n",
            "25/25 - 0s - loss: 1.3615 - accuracy: 0.4875 - val_loss: 1.2904 - val_accuracy: 0.5300\n",
            "Epoch 40/100\n",
            "25/25 - 0s - loss: 1.3498 - accuracy: 0.5000 - val_loss: 1.2886 - val_accuracy: 0.5200\n",
            "Epoch 41/100\n",
            "25/25 - 0s - loss: 1.3464 - accuracy: 0.5113 - val_loss: 1.2897 - val_accuracy: 0.5550\n",
            "Epoch 42/100\n",
            "25/25 - 1s - loss: 1.3277 - accuracy: 0.5275 - val_loss: 1.2538 - val_accuracy: 0.5300\n",
            "Epoch 43/100\n",
            "25/25 - 1s - loss: 1.3631 - accuracy: 0.5200 - val_loss: 1.2270 - val_accuracy: 0.5350\n",
            "Epoch 44/100\n",
            "25/25 - 0s - loss: 1.4066 - accuracy: 0.4700 - val_loss: 1.2905 - val_accuracy: 0.5050\n",
            "Epoch 45/100\n",
            "25/25 - 0s - loss: 1.3398 - accuracy: 0.5200 - val_loss: 1.2952 - val_accuracy: 0.5050\n",
            "Epoch 46/100\n",
            "25/25 - 0s - loss: 1.3435 - accuracy: 0.5038 - val_loss: 1.2938 - val_accuracy: 0.5200\n",
            "Epoch 47/100\n",
            "25/25 - 1s - loss: 1.3850 - accuracy: 0.5038 - val_loss: 1.1835 - val_accuracy: 0.5650\n",
            "Epoch 48/100\n",
            "25/25 - 0s - loss: 1.3140 - accuracy: 0.5200 - val_loss: 1.2317 - val_accuracy: 0.5300\n",
            "Epoch 49/100\n",
            "25/25 - 0s - loss: 1.3205 - accuracy: 0.5225 - val_loss: 1.3219 - val_accuracy: 0.5150\n",
            "Epoch 50/100\n",
            "25/25 - 1s - loss: 1.3394 - accuracy: 0.5325 - val_loss: 1.1822 - val_accuracy: 0.5750\n",
            "Epoch 51/100\n",
            "25/25 - 0s - loss: 1.3219 - accuracy: 0.5263 - val_loss: 1.2359 - val_accuracy: 0.5450\n",
            "Epoch 52/100\n",
            "25/25 - 0s - loss: 1.2749 - accuracy: 0.5425 - val_loss: 1.2587 - val_accuracy: 0.5350\n",
            "Epoch 53/100\n",
            "25/25 - 0s - loss: 1.2851 - accuracy: 0.5213 - val_loss: 1.1945 - val_accuracy: 0.5450\n",
            "Epoch 54/100\n",
            "25/25 - 0s - loss: 1.2360 - accuracy: 0.5688 - val_loss: 1.2565 - val_accuracy: 0.5450\n",
            "Epoch 55/100\n",
            "25/25 - 0s - loss: 1.2121 - accuracy: 0.5500 - val_loss: 1.2990 - val_accuracy: 0.5150\n",
            "Epoch 56/100\n",
            "25/25 - 0s - loss: 1.2663 - accuracy: 0.5362 - val_loss: 1.2433 - val_accuracy: 0.5700\n",
            "Epoch 57/100\n",
            "25/25 - 0s - loss: 1.2661 - accuracy: 0.5600 - val_loss: 1.3369 - val_accuracy: 0.5350\n",
            "Epoch 58/100\n",
            "25/25 - 0s - loss: 1.2578 - accuracy: 0.5738 - val_loss: 1.2095 - val_accuracy: 0.5350\n",
            "Epoch 59/100\n",
            "25/25 - 0s - loss: 1.2540 - accuracy: 0.5638 - val_loss: 1.3580 - val_accuracy: 0.4950\n",
            "Epoch 60/100\n",
            "25/25 - 1s - loss: 1.2722 - accuracy: 0.5437 - val_loss: 1.1808 - val_accuracy: 0.5900\n",
            "Epoch 61/100\n",
            "25/25 - 1s - loss: 1.2883 - accuracy: 0.5500 - val_loss: 1.1174 - val_accuracy: 0.6300\n",
            "Epoch 62/100\n",
            "25/25 - 0s - loss: 1.2511 - accuracy: 0.5638 - val_loss: 1.2313 - val_accuracy: 0.6000\n",
            "Epoch 63/100\n",
            "25/25 - 0s - loss: 1.2247 - accuracy: 0.5600 - val_loss: 1.1438 - val_accuracy: 0.6100\n",
            "Epoch 64/100\n",
            "25/25 - 0s - loss: 1.1677 - accuracy: 0.5875 - val_loss: 1.1457 - val_accuracy: 0.6000\n",
            "Epoch 65/100\n",
            "25/25 - 0s - loss: 1.1470 - accuracy: 0.5775 - val_loss: 1.1662 - val_accuracy: 0.6000\n",
            "Epoch 66/100\n",
            "25/25 - 0s - loss: 1.1781 - accuracy: 0.5763 - val_loss: 1.1900 - val_accuracy: 0.5700\n",
            "Epoch 67/100\n",
            "25/25 - 0s - loss: 1.1862 - accuracy: 0.5638 - val_loss: 1.1648 - val_accuracy: 0.5800\n",
            "Epoch 68/100\n",
            "25/25 - 0s - loss: 1.1813 - accuracy: 0.5888 - val_loss: 1.1748 - val_accuracy: 0.5800\n",
            "Epoch 69/100\n",
            "25/25 - 0s - loss: 1.1066 - accuracy: 0.6125 - val_loss: 1.2025 - val_accuracy: 0.5850\n",
            "Epoch 70/100\n",
            "25/25 - 0s - loss: 1.1117 - accuracy: 0.6062 - val_loss: 1.1636 - val_accuracy: 0.5950\n",
            "Epoch 71/100\n",
            "25/25 - 0s - loss: 1.1171 - accuracy: 0.6075 - val_loss: 1.1473 - val_accuracy: 0.6100\n",
            "Epoch 72/100\n",
            "25/25 - 0s - loss: 1.1607 - accuracy: 0.5938 - val_loss: 1.1256 - val_accuracy: 0.6100\n",
            "Epoch 73/100\n",
            "25/25 - 0s - loss: 1.1540 - accuracy: 0.5775 - val_loss: 1.2038 - val_accuracy: 0.5800\n",
            "Epoch 74/100\n",
            "25/25 - 0s - loss: 1.1213 - accuracy: 0.6062 - val_loss: 1.1855 - val_accuracy: 0.5700\n",
            "Epoch 75/100\n",
            "25/25 - 0s - loss: 1.1788 - accuracy: 0.5788 - val_loss: 1.1671 - val_accuracy: 0.6150\n",
            "Epoch 76/100\n",
            "25/25 - 0s - loss: 1.0957 - accuracy: 0.6225 - val_loss: 1.1355 - val_accuracy: 0.6350\n",
            "Epoch 77/100\n",
            "25/25 - 0s - loss: 1.1267 - accuracy: 0.5925 - val_loss: 1.1597 - val_accuracy: 0.5850\n",
            "Epoch 78/100\n",
            "25/25 - 0s - loss: 1.0732 - accuracy: 0.6100 - val_loss: 1.1623 - val_accuracy: 0.6150\n",
            "Epoch 79/100\n",
            "25/25 - 0s - loss: 1.1040 - accuracy: 0.6075 - val_loss: 1.1625 - val_accuracy: 0.6000\n",
            "Epoch 80/100\n",
            "25/25 - 0s - loss: 1.0986 - accuracy: 0.6100 - val_loss: 1.1805 - val_accuracy: 0.5800\n",
            "Epoch 81/100\n",
            "25/25 - 0s - loss: 1.1344 - accuracy: 0.6075 - val_loss: 1.3666 - val_accuracy: 0.5450\n",
            "Epoch 82/100\n",
            "25/25 - 0s - loss: 1.0973 - accuracy: 0.6200 - val_loss: 1.2602 - val_accuracy: 0.5650\n",
            "Epoch 83/100\n",
            "25/25 - 0s - loss: 1.0935 - accuracy: 0.6050 - val_loss: 1.1886 - val_accuracy: 0.6100\n",
            "Epoch 84/100\n",
            "25/25 - 0s - loss: 1.0934 - accuracy: 0.6000 - val_loss: 1.1230 - val_accuracy: 0.5700\n",
            "Epoch 85/100\n",
            "25/25 - 0s - loss: 1.0626 - accuracy: 0.6225 - val_loss: 1.3665 - val_accuracy: 0.5050\n",
            "Epoch 86/100\n",
            "25/25 - 0s - loss: 1.1200 - accuracy: 0.5863 - val_loss: 1.1610 - val_accuracy: 0.6000\n",
            "Epoch 87/100\n",
            "25/25 - 0s - loss: 1.0454 - accuracy: 0.6400 - val_loss: 1.1695 - val_accuracy: 0.6000\n",
            "Epoch 88/100\n",
            "25/25 - 0s - loss: 1.0603 - accuracy: 0.6150 - val_loss: 1.2341 - val_accuracy: 0.5750\n",
            "Epoch 89/100\n",
            "25/25 - 0s - loss: 1.0636 - accuracy: 0.6162 - val_loss: 1.1463 - val_accuracy: 0.6150\n",
            "Epoch 90/100\n",
            "25/25 - 0s - loss: 1.0692 - accuracy: 0.6175 - val_loss: 1.2264 - val_accuracy: 0.5900\n",
            "Epoch 91/100\n",
            "25/25 - 0s - loss: 0.9862 - accuracy: 0.6513 - val_loss: 1.1396 - val_accuracy: 0.6250\n",
            "Epoch 92/100\n",
            "25/25 - 0s - loss: 1.0109 - accuracy: 0.6325 - val_loss: 1.2949 - val_accuracy: 0.5350\n",
            "Epoch 93/100\n",
            "25/25 - 0s - loss: 1.1206 - accuracy: 0.5925 - val_loss: 1.1751 - val_accuracy: 0.5550\n",
            "Epoch 94/100\n",
            "25/25 - 0s - loss: 1.1537 - accuracy: 0.6012 - val_loss: 1.1710 - val_accuracy: 0.6100\n",
            "Epoch 95/100\n",
            "25/25 - 0s - loss: 1.0328 - accuracy: 0.6550 - val_loss: 1.1484 - val_accuracy: 0.6050\n",
            "Epoch 96/100\n",
            "25/25 - 0s - loss: 0.9931 - accuracy: 0.6413 - val_loss: 1.1748 - val_accuracy: 0.5750\n",
            "Epoch 97/100\n",
            "25/25 - 0s - loss: 1.0133 - accuracy: 0.6263 - val_loss: 1.1479 - val_accuracy: 0.6150\n",
            "Epoch 98/100\n",
            "25/25 - 0s - loss: 1.0220 - accuracy: 0.6363 - val_loss: 1.2511 - val_accuracy: 0.5900\n",
            "Epoch 99/100\n",
            "25/25 - 0s - loss: 1.0392 - accuracy: 0.6438 - val_loss: 1.2811 - val_accuracy: 0.5950\n",
            "Epoch 100/100\n",
            "25/25 - 0s - loss: 1.0593 - accuracy: 0.6112 - val_loss: 1.2056 - val_accuracy: 0.5800\n"
          ],
          "name": "stdout"
        }
      ]
    },
    {
      "cell_type": "code",
      "metadata": {
        "id": "66H1XZMpKLyK",
        "colab_type": "code",
        "colab": {
          "base_uri": "https://localhost:8080/",
          "height": 52
        },
        "outputId": "c1f51792-f0b8-4c76-bd5b-38278d017376"
      },
      "source": [
        "model.evaluate(X_test_1d_reshape, y_test, steps = 16)"
      ],
      "execution_count": null,
      "outputs": [
        {
          "output_type": "stream",
          "text": [
            "16/16 [==============================] - 0s 10ms/step - loss: 1.2056 - accuracy: 0.5800\n"
          ],
          "name": "stdout"
        },
        {
          "output_type": "execute_result",
          "data": {
            "text/plain": [
              "[1.2056421041488647, 0.5799999833106995]"
            ]
          },
          "metadata": {
            "tags": []
          },
          "execution_count": 27
        }
      ]
    },
    {
      "cell_type": "code",
      "metadata": {
        "id": "ZGudYHctoxg4",
        "colab_type": "code",
        "colab": {
          "base_uri": "https://localhost:8080/",
          "height": 400
        },
        "outputId": "66d416ac-188c-4615-a112-f54b36e3ad0c"
      },
      "source": [
        "plt.figure(figsize = (8,6))\n",
        "plt.plot(history.history['accuracy'])\n",
        "plt.plot(history.history['val_accuracy'])\n",
        "plt.xlabel('Epochs')\n",
        "plt.ylabel('Accuracy')\n",
        "plt.title('model accuracy')\n",
        "plt.legend(['train','val'])\n",
        "plt.savefig(BASE_DIR + ACC_1D, format = 'png')"
      ],
      "execution_count": 51,
      "outputs": [
        {
          "output_type": "display_data",
          "data": {
            "image/png": "[encoded data removed]",
            "text/plain": [
              "<Figure size 576x432 with 1 Axes>"
            ]
          },
          "metadata": {
            "tags": []
          }
        }
      ]
    },
    {
      "cell_type": "code",
      "metadata": {
        "id": "jb7ie-KatTHV",
        "colab_type": "code",
        "colab": {
          "base_uri": "https://localhost:8080/",
          "height": 400
        },
        "outputId": "f74fbd6d-72b5-4b40-c228-88e4e9ef3c05"
      },
      "source": [
        "plt.figure(figsize = (8,6))\n",
        "plt.plot(history.history['loss'])\n",
        "plt.plot(history.history['val_loss'])\n",
        "plt.xlabel('Epochs')\n",
        "plt.ylabel('Loss')\n",
        "plt.title('model loss')\n",
        "plt.legend(['train','val'])\n",
        "plt.savefig(BASE_DIR + LOSS_1D, format = 'png')"
      ],
      "execution_count": 52,
      "outputs": [
        {
          "output_type": "display_data",
          "data": {
            "image/png": "[encoded data removed]",
            "text/plain": [
              "<Figure size 576x432 with 1 Axes>"
            ]
          },
          "metadata": {
            "tags": []
          }
        }
      ]
    },
    {
      "cell_type": "code",
      "metadata": {
        "id": "gWDTQQamtrtZ",
        "colab_type": "code",
        "colab": {}
      },
      "source": [
        "from sklearn.metrics import classification_report\n",
        "y_pred = model.predict(X_test_1d_reshape)\n",
        "y_pred = np.argmax(y_pred, axis = 1)\n",
        "clr = classification_report(y_test_enc,y_pred)"
      ],
      "execution_count": 84,
      "outputs": []
    },
    {
      "cell_type": "code",
      "metadata": {
        "id": "-lLqn4ffsuyh",
        "colab_type": "code",
        "colab": {
          "base_uri": "https://localhost:8080/",
          "height": 318
        },
        "outputId": "41ca5466-66ff-4697-eadb-dfa701ba6972"
      },
      "source": [
        "print(clr)"
      ],
      "execution_count": 85,
      "outputs": [
        {
          "output_type": "stream",
          "text": [
            "              precision    recall  f1-score   support\n",
            "\n",
            "           0       0.27      0.46      0.34        13\n",
            "           1       0.96      0.81      0.88        27\n",
            "           2       0.33      0.46      0.39        13\n",
            "           3       0.77      0.40      0.53        25\n",
            "           4       0.48      0.43      0.45        23\n",
            "           5       0.68      0.85      0.76        20\n",
            "           6       0.76      0.62      0.68        21\n",
            "           7       0.69      0.86      0.77        21\n",
            "           8       0.40      0.40      0.40        15\n",
            "           9       0.40      0.36      0.38        22\n",
            "\n",
            "    accuracy                           0.58       200\n",
            "   macro avg       0.57      0.57      0.56       200\n",
            "weighted avg       0.61      0.58      0.58       200\n",
            "\n"
          ],
          "name": "stdout"
        }
      ]
    },
    {
      "cell_type": "code",
      "metadata": {
        "id": "dYyZHO8xXlVz",
        "colab_type": "code",
        "colab": {}
      },
      "source": [
        ""
      ],
      "execution_count": null,
      "outputs": []
    }
  ]
}